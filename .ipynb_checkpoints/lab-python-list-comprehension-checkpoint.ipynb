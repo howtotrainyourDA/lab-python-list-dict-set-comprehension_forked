{
 "cells": [
  {
   "cell_type": "markdown",
   "id": "25d7736c-ba17-4aff-b6bb-66eba20fbf4e",
   "metadata": {},
   "source": [
    "# Lab | List, Dict and Set Comprehension"
   ]
  },
  {
   "cell_type": "markdown",
   "id": "7dd3cbde-675a-4b81-92c3-f728846dbe06",
   "metadata": {},
   "source": [
    "## Exercise: Managing Customer Orders Optimized with Comprehension"
   ]
  },
  {
   "cell_type": "markdown",
   "id": "5d500160-2fb7-4777-b5e4-09d45ebaf328",
   "metadata": {},
   "source": [
    "In the previous exercise, you developed a program to manage customer orders and inventory. Now, let's take it a step further and incorporate comprehension into your code.\n",
    "\n",
    "Follow the steps below to complete the exercise:\n",
    "\n",
    "1. Review your code from the previous exercise and identify areas where you can apply comprehension to simplify and streamline your code. \n",
    "\n",
    "    - *Hint: Apply it to initialize inventory, updating the inventory and printing the updated inventory.*\n",
    "    \n",
    "    - For example, in initializing the inventory, we could have:\n",
    "    \n",
    "        ```python\n",
    "        def initialize_inventory(products):\n",
    "            inventory = {product: int(input(f\"Enter the quantity of {product}s available: \")) for product in products}\n",
    "            return inventory\n",
    "\n",
    "        ```\n",
    "<br>     def initialize_inventory(products):\n",
    "            inventory = {product: int(input(f\"Enter the quantity of {product}s available: \")) for product in products}\n",
    "            return inventory\n",
    "\n",
    "    \n",
    "    \n",
    "2. Modify the function get_customer_orders so it prompts the user to enter the number of customer orders and gathers the product names using a loop and user input. Use comprehension.\n",
    "\n",
    "3. Add a new function to calculate the total price of the customer order. For each product in customer_orders, prompt the user to enter the price of that product. Use comprehension to calculate the total price. Note: assume that the user can only have 1 unit of each product.\n",
    "\n",
    "4. Modify the update_inventory function to remove the product from the inventory if its quantity becomes zero after fulfilling the customer orders. Use comprehension to filter out the products with a quantity of zero from the inventory.\n",
    "\n",
    "5. Print the total price of the customer order.\n",
    "\n",
    "Your code should produce output similar to the following:\n",
    "\n",
    "```python\n",
    "Enter the quantity of t-shirts available:  5\n",
    "Enter the quantity of mugs available:  4\n",
    "Enter the quantity of hats available:  3\n",
    "Enter the quantity of books available:  2\n",
    "Enter the quantity of keychains available:  1\n",
    "Enter the number of customer orders:  2\n",
    "Enter the name of a product that a customer wants to order:  hat\n",
    "Enter the name of a product that a customer wants to order:  keychain\n",
    "\n",
    "Order Statistics:\n",
    "Total Products Ordered: 2\n",
    "Percentage of Unique Products Ordered: 40.0\n",
    "\n",
    "Updated Inventory:\n",
    "t-shirt: 5\n",
    "mug: 4\n",
    "hat: 2\n",
    "book: 2\n",
    "Enter the price of keychain:  5\n",
    "Enter the price of hat:  10\n",
    "Total Price: 15.0\n",
    "\n",
    "```\n"
   ]
  },
  {
   "cell_type": "code",
   "execution_count": null,
   "id": "ccd5fbf7-cfcb-4016-9860-bc452d7499d8",
   "metadata": {},
   "outputs": [],
   "source": []
  },
  {
   "cell_type": "code",
   "execution_count": 90,
   "id": "16494b36-36d0-4a71-b762-360d5d8c0d36",
   "metadata": {
    "scrolled": true
   },
   "outputs": [
    {
     "name": "stdin",
     "output_type": "stream",
     "text": [
      "Please add products shirt pc mug\n",
      "Please enter amount for shirt. 123\n",
      "Please enter amount for pc. 123\n",
      "Please enter amount for mug. 123\n",
      "Do you want to add more? no\n"
     ]
    },
    {
     "name": "stdout",
     "output_type": "stream",
     "text": [
      "{'shirt': 123, 'pc': 123, 'mug': 123}\n"
     ]
    }
   ],
   "source": [
    "products = []\n",
    "inventory = {}\n",
    "\n",
    "\n",
    "def initialize_inventory(products):\n",
    "    \"\"\"\n",
    "    input: <list> from products user input\n",
    "    output: <dict> \n",
    "\n",
    "    \"\"\"\n",
    "    inventory = {item : int(input(f\"Please enter amount for {item}.\")) for item in products}\n",
    "    \"\"\"\n",
    "    input: <str> to be converted to <int> values for the inventory <dict>\n",
    "    output: <dict> \n",
    "    \"\"\"\n",
    "\n",
    "        \n",
    "    choice = input(\"Do you want to add more?\")\n",
    "          \n",
    "    if choice == \"yes\":\n",
    "        more_products = input(\"Please add more products\").lower().strip().split()\n",
    "        initialize_inventory(more_products)    \n",
    "    \n",
    "    return inventory\n",
    "\n",
    "\n",
    "products = input(\"Please add products\").lower().split()           \n",
    "final_inventory = initialize_inventory(products)\n",
    "\n",
    "print(final_inventory)\n",
    "\n"
   ]
  },
  {
   "cell_type": "code",
   "execution_count": 91,
   "id": "35908abb-e9cb-4589-a278-63fffbe82c53",
   "metadata": {},
   "outputs": [],
   "source": [
    "#4.\n",
    "\n",
    "\n",
    "customer_orders = {}\n"
   ]
  },
  {
   "cell_type": "code",
   "execution_count": 92,
   "id": "a51c4c74-0b9a-471d-b388-ffc1d9f8c459",
   "metadata": {},
   "outputs": [
    {
     "name": "stdin",
     "output_type": "stream",
     "text": [
      "What products do you want to order? We have: \n",
      " {'shirt': 123, 'pc': 123, 'mug': 123} shirt pc mug\n",
      "How many shirts do you want to order?. 100\n",
      "How many pcs do you want to order?. 100\n",
      "How many mugs do you want to order?. 100\n",
      "Do you want to order more? no\n"
     ]
    },
    {
     "name": "stdout",
     "output_type": "stream",
     "text": [
      "{'shirt': 100, 'pc': 100, 'mug': 100}\n"
     ]
    },
    {
     "name": "stdin",
     "output_type": "stream",
     "text": [
      "What is the prize of the shirt? 20\n",
      "What is the prize of the pc? 20\n",
      "What is the prize of the mug? 20\n"
     ]
    },
    {
     "name": "stdout",
     "output_type": "stream",
     "text": [
      "60.0\n"
     ]
    }
   ],
   "source": [
    "def get_customer_order():\n",
    "    customer_selection = input(f\"What products do you want to order? We have: \\n {final_inventory}\").split()\n",
    "    customer_order = {item : int(input(f\"How many {item}s do you want to order?.\")) for item in customer_selection}\n",
    "    \n",
    "    choice = input(\"Do you want to order more?\")\n",
    "    if choice == \"yes\":\n",
    "        get_customer_order()\n",
    "\n",
    "    return customer_order\n",
    "    \n",
    "        \n",
    "customer_order = get_customer_order()\n",
    "print(customer_order)\n",
    "\n",
    "\n",
    "def get_prize(customer_order):\n",
    "    item_prize = {item: float(input(f\"What is the prize of the {item}?\")) for item in customer_order}\n",
    "    total_prize = sum(item_prize[item] for item in item_prize)\n",
    "\n",
    "    return total_prize\n",
    "\n",
    "total_prize = get_prize(customer_order)\n",
    "\n",
    "print(total_prize)"
   ]
  },
  {
   "cell_type": "code",
   "execution_count": 93,
   "id": "19cac7fe-b458-4e95-b052-32ab6c8d2cf1",
   "metadata": {},
   "outputs": [
    {
     "data": {
      "text/plain": [
       "{}"
      ]
     },
     "execution_count": 93,
     "metadata": {},
     "output_type": "execute_result"
    }
   ],
   "source": [
    "\n",
    "def updated_inventory(customer_orders, inventory):\n",
    "       \n",
    "    for key, value in customer_orders.items():\n",
    "        inventory[key] = inventory[key] - value    \n",
    "    return inventory\n",
    "    \n",
    "updated_inventory(customer_orders, inventory)"
   ]
  },
  {
   "cell_type": "code",
   "execution_count": 110,
   "id": "68c982be-4655-4dbf-97a3-0caf009c573a",
   "metadata": {
    "scrolled": true
   },
   "outputs": [
    {
     "data": {
      "text/plain": [
       "81.30081300813008"
      ]
     },
     "execution_count": 110,
     "metadata": {},
     "output_type": "execute_result"
    }
   ],
   "source": [
    "#7. \n",
    "def calculate_order_statistics(customer_order, final_inventory):\n",
    "    \n",
    "    total_items = sum(final_inventory[item] for item in final_inventory)\n",
    "    total_items_ordered = sum(customer_order[item] for item in customer_order)\n",
    "                     \n",
    "    order_percentage = (total_items_ordered / total_items) *100\n",
    "    return order_percentage\n",
    "    return total_items_ordered\n",
    " \n",
    "\n",
    "calculate_order_statistics(customer_order, final_inventory)"
   ]
  },
  {
   "cell_type": "code",
   "execution_count": 114,
   "id": "9d76f387-5067-441d-919a-b442ee1e835f",
   "metadata": {},
   "outputs": [
    {
     "name": "stdout",
     "output_type": "stream",
     "text": [
      "You have ordered 54.20054200542005 products which makes  54.20 of the total\n"
     ]
    }
   ],
   "source": [
    "order_statistics = 0\n",
    "def print_order_statistics(order_statistics):\n",
    "    print(f\"You have ordered {total_items_ordered} products which makes {order_percentage: .2f} of the total\")\n",
    "\n",
    "    \n",
    "\n",
    "\n",
    "print_order_statistics(order_statistics)\n",
    "    "
   ]
  },
  {
   "cell_type": "code",
   "execution_count": null,
   "id": "2a0be32e-f8d6-45d6-8a50-26198287ed7f",
   "metadata": {},
   "outputs": [],
   "source": []
  }
 ],
 "metadata": {
  "kernelspec": {
   "display_name": "Python 3 (ipykernel)",
   "language": "python",
   "name": "python3"
  },
  "language_info": {
   "codemirror_mode": {
    "name": "ipython",
    "version": 3
   },
   "file_extension": ".py",
   "mimetype": "text/x-python",
   "name": "python",
   "nbconvert_exporter": "python",
   "pygments_lexer": "ipython3",
   "version": "3.12.4"
  }
 },
 "nbformat": 4,
 "nbformat_minor": 5
}
